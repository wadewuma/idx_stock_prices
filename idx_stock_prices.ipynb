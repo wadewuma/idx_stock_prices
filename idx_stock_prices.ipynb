{
 "cells": [
  {
   "cell_type": "markdown",
   "metadata": {},
   "source": [
    "## Stock Prices of Indonesian Public Companies through Yahoo! Finance"
   ]
  },
  {
   "cell_type": "markdown",
   "metadata": {},
   "source": [
    "### Install packages\n",
    "\n",
    "In this notebook, I present the way of getting stock prices of Indonesian public\n",
    "companies through Yahoo! Finance. Before we start, install the required packages\n",
    "in case you haven't. "
   ]
  },
  {
   "cell_type": "code",
   "execution_count": null,
   "metadata": {
    "scrolled": true
   },
   "outputs": [],
   "source": [
    "if(!require(BatchGetSymbols))\n",
    "    install.packages('BatchGetSymbols', repos = 'http://cran.us.r-project.org')\n",
    "if(!require(rvest))\n",
    "    install.packages('rvest', repos = 'http://cran.us.r-project.org')\n",
    "if(!require(xml2))\n",
    "    install.packages('xml2', repos = 'http://cran.us.r-project.org')"
   ]
  },
  {
   "cell_type": "markdown",
   "metadata": {},
   "source": [
    "### Load packages\n",
    "\n",
    "After installing the packages, we load them using library() comman"
   ]
  },
  {
   "cell_type": "code",
   "execution_count": null,
   "metadata": {},
   "outputs": [],
   "source": [
    "library(BatchGetSymbols)\n",
    "library(rvest)\n",
    "library(xml2)"
   ]
  },
  {
   "cell_type": "markdown",
   "metadata": {},
   "source": [
    "### Get the data\n",
    "\n",
    "There are around 600 publicly listed companies in Indonesia Stock Exchange as of this writing. We surely don't want to download the dataset one-by-one. To do that, we load the list of public companies using 'listed_companies.csv' data.\n",
    "\n",
    "As you can see, I collect the data from January 1, 2018 until now (year-to-date). Thanks to 'BatchGetSymbols' package creator (check his Github on https://github.com/msperlin/BatchGetSymbols), we are able to automate the process of getting the financial data through Yahoo! Finance or Google Finance."
   ]
  },
  {
   "cell_type": "code",
   "execution_count": null,
   "metadata": {},
   "outputs": [],
   "source": [
    "company_list <- read.csv('listed_companies.csv', header = FALSE)\n",
    "file_name <- as.character(company_list$V1)\n",
    "n <- as.numeric(as.Date(Sys.Date())-as.Date(\"2018-01-01\"))\n",
    "first_date <- Sys.Date()-n\n",
    "last_date <- Sys.Date()\n",
    "df <- BatchGetSymbols(tickers = file_name,\n",
    "                      first.date = first_date,\n",
    "                      last.date = last_date)\n",
    "df <- data.frame(df$df.tickers)"
   ]
  },
  {
   "cell_type": "markdown",
   "metadata": {},
   "source": [
    "### Save the data\n",
    "\n",
    "Now let's save the dataset for future use."
   ]
  },
  {
   "cell_type": "code",
   "execution_count": null,
   "metadata": {},
   "outputs": [],
   "source": [
    "write.csv(df, file = 'idx_yahoo_finance.csv' ,row.names = FALSE)"
   ]
  }
 ],
 "metadata": {
  "kernelspec": {
   "display_name": "R",
   "language": "R",
   "name": "ir"
  },
  "language_info": {
   "codemirror_mode": "r",
   "file_extension": ".r",
   "mimetype": "text/x-r-source",
   "name": "R",
   "pygments_lexer": "r",
   "version": "3.5.1"
  }
 },
 "nbformat": 4,
 "nbformat_minor": 2
}
